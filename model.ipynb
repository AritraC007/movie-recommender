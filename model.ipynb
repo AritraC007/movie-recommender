{
 "cells": [
  {
   "cell_type": "code",
   "execution_count": 2,
   "id": "a2d1dc33-a62b-4429-af81-cae0e695e916",
   "metadata": {},
   "outputs": [],
   "source": [
    "import numpy as np\n",
    "import pandas as pd\n",
    "import ast"
   ]
  },
  {
   "cell_type": "markdown",
   "id": "6ce0f02d-6fac-48d2-bc53-16915cb886e0",
   "metadata": {},
   "source": [
    "## Data Importing"
   ]
  },
  {
   "cell_type": "code",
   "execution_count": 3,
   "id": "68793f69-bf48-47e9-af25-4e502aa2d8d6",
   "metadata": {},
   "outputs": [],
   "source": [
    "movies = pd.read_csv(\"tmdb_5000_movies.csv\")\n",
    "credits = pd.read_csv(\"tmdb_5000_credits.csv\")"
   ]
  },
  {
   "cell_type": "markdown",
   "id": "626743d7-565b-40b1-8931-8e5cbd985eb0",
   "metadata": {},
   "source": [
    "Seeing the keywords extracting the words(names)"
   ]
  },
  {
   "cell_type": "code",
   "execution_count": 6,
   "id": "e6ecdc1f-6792-424d-972b-6f05ae398322",
   "metadata": {},
   "outputs": [
    {
     "data": {
      "text/plain": [
       "array(['[{\"id\": 1463, \"name\": \"culture clash\"}, {\"id\": 2964, \"name\": \"future\"}, {\"id\": 3386, \"name\": \"space war\"}, {\"id\": 3388, \"name\": \"space colony\"}, {\"id\": 3679, \"name\": \"society\"}, {\"id\": 3801, \"name\": \"space travel\"}, {\"id\": 9685, \"name\": \"futuristic\"}, {\"id\": 9840, \"name\": \"romance\"}, {\"id\": 9882, \"name\": \"space\"}, {\"id\": 9951, \"name\": \"alien\"}, {\"id\": 10148, \"name\": \"tribe\"}, {\"id\": 10158, \"name\": \"alien planet\"}, {\"id\": 10987, \"name\": \"cgi\"}, {\"id\": 11399, \"name\": \"marine\"}, {\"id\": 13065, \"name\": \"soldier\"}, {\"id\": 14643, \"name\": \"battle\"}, {\"id\": 14720, \"name\": \"love affair\"}, {\"id\": 165431, \"name\": \"anti war\"}, {\"id\": 193554, \"name\": \"power relations\"}, {\"id\": 206690, \"name\": \"mind and soul\"}, {\"id\": 209714, \"name\": \"3d\"}]'],\n",
       "      dtype=object)"
      ]
     },
     "execution_count": 6,
     "metadata": {},
     "output_type": "execute_result"
    }
   ],
   "source": [
    "movies.head(1)['keywords'].values"
   ]
  },
  {
   "cell_type": "code",
   "execution_count": 226,
   "id": "0eb994a4-acfd-4b8b-9ae1-f53c3c265090",
   "metadata": {},
   "outputs": [],
   "source": [
    "credits.head(1)['cast'].values"
   ]
  },
  {
   "cell_type": "markdown",
   "id": "ce3e34be-9eb1-460b-8d33-84adacb19efe",
   "metadata": {},
   "source": [
    "## Merging the tow data sets into one on the basis of movie title"
   ]
  },
  {
   "cell_type": "code",
   "execution_count": 4,
   "id": "aa432bce-f368-4333-abea-c3b5a395dbb6",
   "metadata": {},
   "outputs": [],
   "source": [
    "mov=movies.merge(credits, on='title')"
   ]
  },
  {
   "cell_type": "code",
   "execution_count": null,
   "id": "333d748e-beae-4b3c-b714-1223f61c315d",
   "metadata": {},
   "outputs": [],
   "source": [
    "mov.head()"
   ]
  },
  {
   "cell_type": "code",
   "execution_count": 5,
   "id": "25560f27-5780-4e71-8a88-79f6922ecfc6",
   "metadata": {},
   "outputs": [],
   "source": [
    "#genre\n",
    "#id\n",
    "#keywords\n",
    "#title\n",
    "#overview\n",
    "#production_companies\n",
    "#cast\n",
    "#crew\n",
    "#Keeping only these fields and removing the rest\n",
    "mov=mov[['genres','id','keywords','title','overview','production_companies','cast','crew']]"
   ]
  },
  {
   "cell_type": "code",
   "execution_count": 6,
   "id": "21d19757-f53c-4e2a-87fe-b9d592db60fd",
   "metadata": {},
   "outputs": [
    {
     "name": "stdout",
     "output_type": "stream",
     "text": [
      "<class 'pandas.core.frame.DataFrame'>\n",
      "RangeIndex: 4809 entries, 0 to 4808\n",
      "Data columns (total 8 columns):\n",
      " #   Column                Non-Null Count  Dtype \n",
      "---  ------                --------------  ----- \n",
      " 0   genres                4809 non-null   object\n",
      " 1   id                    4809 non-null   int64 \n",
      " 2   keywords              4809 non-null   object\n",
      " 3   title                 4809 non-null   object\n",
      " 4   overview              4806 non-null   object\n",
      " 5   production_companies  4809 non-null   object\n",
      " 6   cast                  4809 non-null   object\n",
      " 7   crew                  4809 non-null   object\n",
      "dtypes: int64(1), object(7)\n",
      "memory usage: 300.7+ KB\n"
     ]
    }
   ],
   "source": [
    "mov.info()"
   ]
  },
  {
   "cell_type": "code",
   "execution_count": 230,
   "id": "49db7dd9-98ca-4e43-87dd-9e825948ce43",
   "metadata": {},
   "outputs": [
    {
     "data": {
      "text/html": [
       "<div>\n",
       "<style scoped>\n",
       "    .dataframe tbody tr th:only-of-type {\n",
       "        vertical-align: middle;\n",
       "    }\n",
       "\n",
       "    .dataframe tbody tr th {\n",
       "        vertical-align: top;\n",
       "    }\n",
       "\n",
       "    .dataframe thead th {\n",
       "        text-align: right;\n",
       "    }\n",
       "</style>\n",
       "<table border=\"1\" class=\"dataframe\">\n",
       "  <thead>\n",
       "    <tr style=\"text-align: right;\">\n",
       "      <th></th>\n",
       "      <th>genres</th>\n",
       "      <th>id</th>\n",
       "      <th>keywords</th>\n",
       "      <th>title</th>\n",
       "      <th>overview</th>\n",
       "      <th>production_companies</th>\n",
       "      <th>cast</th>\n",
       "      <th>crew</th>\n",
       "    </tr>\n",
       "  </thead>\n",
       "  <tbody>\n",
       "    <tr>\n",
       "      <th>0</th>\n",
       "      <td>[Action, Adventure, Fantasy, ScienceFiction]</td>\n",
       "      <td>19995</td>\n",
       "      <td>[cultureclash, future, spacewar, spacecolony, ...</td>\n",
       "      <td>Avatar</td>\n",
       "      <td>[In, the, 22nd, century,, a, paraplegic, Marin...</td>\n",
       "      <td>[IngeniousFilmPartners, TwentiethCenturyFoxFil...</td>\n",
       "      <td>[SamWorthington, ZoeSaldana, SigourneyWeaver, ...</td>\n",
       "      <td>[JamesCameron]</td>\n",
       "    </tr>\n",
       "  </tbody>\n",
       "</table>\n",
       "</div>"
      ],
      "text/plain": [
       "                                         genres     id  \\\n",
       "0  [Action, Adventure, Fantasy, ScienceFiction]  19995   \n",
       "\n",
       "                                            keywords   title  \\\n",
       "0  [cultureclash, future, spacewar, spacecolony, ...  Avatar   \n",
       "\n",
       "                                            overview  \\\n",
       "0  [In, the, 22nd, century,, a, paraplegic, Marin...   \n",
       "\n",
       "                                production_companies  \\\n",
       "0  [IngeniousFilmPartners, TwentiethCenturyFoxFil...   \n",
       "\n",
       "                                                cast            crew  \n",
       "0  [SamWorthington, ZoeSaldana, SigourneyWeaver, ...  [JamesCameron]  "
      ]
     },
     "execution_count": 230,
     "metadata": {},
     "output_type": "execute_result"
    }
   ],
   "source": [
    "mov.head(1)"
   ]
  },
  {
   "cell_type": "markdown",
   "id": "a915f186-1dbe-4bce-b5d6-6cd4cea793b5",
   "metadata": {},
   "source": [
    "## counting the rows with null values "
   ]
  },
  {
   "cell_type": "code",
   "execution_count": 9,
   "id": "4d999d64-7f59-4b7e-b590-70af4bd56b40",
   "metadata": {},
   "outputs": [
    {
     "data": {
      "text/plain": [
       "genres                  0\n",
       "id                      0\n",
       "keywords                0\n",
       "title                   0\n",
       "overview                0\n",
       "production_companies    0\n",
       "cast                    0\n",
       "crew                    0\n",
       "dtype: int64"
      ]
     },
     "execution_count": 9,
     "metadata": {},
     "output_type": "execute_result"
    }
   ],
   "source": [
    "mov.isnull().sum()"
   ]
  },
  {
   "cell_type": "code",
   "execution_count": 8,
   "id": "dadc9be9-d94c-43ab-810b-f3185082b862",
   "metadata": {},
   "outputs": [],
   "source": [
    "mov.dropna(inplace=True)"
   ]
  },
  {
   "cell_type": "code",
   "execution_count": 232,
   "id": "9199fe00-bc72-4a92-b436-46ee8ec8da07",
   "metadata": {},
   "outputs": [],
   "source": [
    "#mov.iloc[0]['genres']"
   ]
  },
  {
   "cell_type": "markdown",
   "id": "eee086e2-88df-4f41-bd05-f11c9847fe73",
   "metadata": {},
   "source": [
    "## From the genres dictionary filtering out the names of the genres"
   ]
  },
  {
   "cell_type": "markdown",
   "id": "f1f5efd9-224f-440c-9722-dd7f1f50713a",
   "metadata": {},
   "source": [
    "## The lists are present in form of strings for some reason so to convert the string to list we use the ast.literal_eval function"
   ]
  },
  {
   "cell_type": "code",
   "execution_count": 10,
   "id": "3c263ecd-3b9a-4788-b5d7-60ceff247613",
   "metadata": {},
   "outputs": [],
   "source": [
    "#''[{\"id\": 28, \"name\": \"Action\"}, {\"id\": 12, \"name\": \"Adventure\"}, {\"id\": 14, \"name\": \"Fantasy\"}, {\"id\": 878, \"name\": \"Science Fiction\"}]''\n",
    "#['Action','Adventure','Fantasy','Science Fiction']\n",
    "def con_genre(obj):\n",
    "    L=[]\n",
    "    for genre in ast.literal_eval(obj):\n",
    "        L.append(genre[\"name\"])\n",
    "    return L"
   ]
  },
  {
   "cell_type": "markdown",
   "id": "b4a175d1-64b2-448e-a4de-8c13005ef666",
   "metadata": {},
   "source": [
    "#### applying con_genre function to all rows of the genre column and storing them in form of list"
   ]
  },
  {
   "cell_type": "code",
   "execution_count": 11,
   "id": "f51affa4-24b6-4d88-bb78-49e179d292ff",
   "metadata": {},
   "outputs": [],
   "source": [
    "mov['genres']=mov['genres'].apply(con_genre)"
   ]
  },
  {
   "cell_type": "code",
   "execution_count": 12,
   "id": "889ae964-1328-451a-8e54-2792928ffe07",
   "metadata": {},
   "outputs": [
    {
     "data": {
      "text/plain": [
       "0       [Action, Adventure, Fantasy, Science Fiction]\n",
       "1                        [Adventure, Fantasy, Action]\n",
       "2                          [Action, Adventure, Crime]\n",
       "3                    [Action, Crime, Drama, Thriller]\n",
       "4                [Action, Adventure, Science Fiction]\n",
       "                            ...                      \n",
       "4804                        [Action, Crime, Thriller]\n",
       "4805                                [Comedy, Romance]\n",
       "4806               [Comedy, Drama, Romance, TV Movie]\n",
       "4807                                               []\n",
       "4808                                    [Documentary]\n",
       "Name: genres, Length: 4806, dtype: object"
      ]
     },
     "execution_count": 12,
     "metadata": {},
     "output_type": "execute_result"
    }
   ],
   "source": [
    "mov['genres']"
   ]
  },
  {
   "cell_type": "code",
   "execution_count": null,
   "id": "11841f5c-e2ae-466d-a437-36a93235d197",
   "metadata": {},
   "outputs": [],
   "source": [
    "mov.head()"
   ]
  },
  {
   "cell_type": "markdown",
   "id": "14a5ca1d-3824-44f7-8928-b6b188ebcc78",
   "metadata": {},
   "source": [
    "## Doing the same to the keywords column"
   ]
  },
  {
   "cell_type": "code",
   "execution_count": null,
   "id": "449c1fb1-79eb-4307-8e48-868e4d0c442e",
   "metadata": {},
   "outputs": [],
   "source": [
    "mov['keywords'][0]\n"
   ]
  },
  {
   "cell_type": "code",
   "execution_count": 13,
   "id": "912575a9-2cf2-4e36-9422-216c758246ec",
   "metadata": {},
   "outputs": [],
   "source": [
    "def con_keyword(obj):\n",
    "    L=[]\n",
    "    for kw in ast.literal_eval(obj):\n",
    "        L.append(kw['name'])\n",
    "    return L"
   ]
  },
  {
   "cell_type": "code",
   "execution_count": 14,
   "id": "0efde1e0-ad47-4981-a02e-bc497946e1df",
   "metadata": {},
   "outputs": [],
   "source": [
    "mov['keywords']=mov['keywords'].apply(con_keyword)"
   ]
  },
  {
   "cell_type": "code",
   "execution_count": null,
   "id": "c1cb8aa0-0d61-440d-ba7e-5f5cd0f018ed",
   "metadata": {},
   "outputs": [],
   "source": [
    "mov.info()"
   ]
  },
  {
   "cell_type": "markdown",
   "id": "0b6c0f15-44ba-4eea-a739-957578cc0537",
   "metadata": {},
   "source": [
    "Changing the order of the columns for better understanding"
   ]
  },
  {
   "cell_type": "code",
   "execution_count": 15,
   "id": "2c0ae7c5-dc1f-4a95-982f-37d383d3d7d4",
   "metadata": {},
   "outputs": [],
   "source": [
    "mov=mov[['title','id','genres','keywords','overview','production_companies','cast', 'crew']]"
   ]
  },
  {
   "cell_type": "markdown",
   "id": "439aa781-3fa5-4bb3-b7fe-2aafb05d9ddd",
   "metadata": {},
   "source": [
    "## Filtering the production companies"
   ]
  },
  {
   "cell_type": "code",
   "execution_count": null,
   "id": "95340cd5-bcf2-486f-af27-1e378eb41d9b",
   "metadata": {},
   "outputs": [],
   "source": [
    "mov['production_companies'][0]\n"
   ]
  },
  {
   "cell_type": "code",
   "execution_count": 16,
   "id": "daed7133-71a8-40f7-904a-af26f6da1de8",
   "metadata": {},
   "outputs": [],
   "source": [
    "def con_pro(obj):\n",
    "    L=[]\n",
    "    for comp in ast.literal_eval(obj):\n",
    "        L.append(comp['name'])\n",
    "    return L"
   ]
  },
  {
   "cell_type": "code",
   "execution_count": 17,
   "id": "cfbfed20-8cf9-4c8c-a137-e776a230f812",
   "metadata": {},
   "outputs": [],
   "source": [
    "mov['production_companies']=mov['production_companies'].apply(con_pro)"
   ]
  },
  {
   "cell_type": "markdown",
   "id": "3ea66bf6-b712-4a38-b40d-e85dde4b0982",
   "metadata": {},
   "source": [
    "## Filtering the top 5 crew as the cast list is very big and contains name of every single actor"
   ]
  },
  {
   "cell_type": "code",
   "execution_count": 18,
   "id": "c0d3d232-6588-4d3a-b5d6-9f4ef2f388ac",
   "metadata": {},
   "outputs": [],
   "source": [
    "#mov['cast'][0]\n",
    "def con_cast(obj):\n",
    "    L=[]\n",
    "    c=0\n",
    "    for mem in ast.literal_eval(obj):\n",
    "        if c>=5:\n",
    "            break\n",
    "        L.append(mem['name'])\n",
    "        c+=1\n",
    "    return L"
   ]
  },
  {
   "cell_type": "code",
   "execution_count": 19,
   "id": "01c0162f-aed0-4683-8bb7-6108f50ef17d",
   "metadata": {},
   "outputs": [],
   "source": [
    "mov['cast']=mov['cast'].apply(con_cast)"
   ]
  },
  {
   "cell_type": "markdown",
   "id": "83bb1d1a-0715-4818-ad1c-d4de8270b58d",
   "metadata": {},
   "source": [
    "## Filtering the name of the director of the film "
   ]
  },
  {
   "cell_type": "code",
   "execution_count": 20,
   "id": "9cf7b531-1215-4595-88bb-c63e0f950072",
   "metadata": {},
   "outputs": [],
   "source": [
    "#mov['crew'][0]\n",
    "def con_crew(obj):\n",
    "    for mem in ast.literal_eval(obj):\n",
    "        if mem['job']==\"Director\":\n",
    "            return [mem[\"name\"]]"
   ]
  },
  {
   "cell_type": "code",
   "execution_count": 41,
   "id": "0e84a6f3-53b1-4f01-9e99-e8ad8cfe56d6",
   "metadata": {},
   "outputs": [],
   "source": [
    "#mov.iloc[4805]['genres']\n",
    "#mov.iloc[0]['genres']"
   ]
  },
  {
   "cell_type": "code",
   "execution_count": 21,
   "id": "254a7e1d-9d3a-403d-835b-00303a6b0fed",
   "metadata": {},
   "outputs": [],
   "source": [
    "mov['crew']=mov['crew'].apply(con_crew)"
   ]
  },
  {
   "cell_type": "markdown",
   "id": "c72d7b8d-9798-4fe2-83b4-ac758c5d1a33",
   "metadata": {},
   "source": [
    "## The overview was in string format so it was changed to a list where each word is treated as a seperated element"
   ]
  },
  {
   "cell_type": "code",
   "execution_count": 22,
   "id": "d5caeca8-a7ca-4fd4-9e1d-a691256c7a1b",
   "metadata": {},
   "outputs": [],
   "source": [
    "mov['overview']=mov['overview'].apply(lambda x:x.split())"
   ]
  },
  {
   "cell_type": "code",
   "execution_count": 23,
   "id": "93f98133-e152-49c1-91c1-1720aa63ced8",
   "metadata": {},
   "outputs": [
    {
     "data": {
      "text/html": [
       "<div>\n",
       "<style scoped>\n",
       "    .dataframe tbody tr th:only-of-type {\n",
       "        vertical-align: middle;\n",
       "    }\n",
       "\n",
       "    .dataframe tbody tr th {\n",
       "        vertical-align: top;\n",
       "    }\n",
       "\n",
       "    .dataframe thead th {\n",
       "        text-align: right;\n",
       "    }\n",
       "</style>\n",
       "<table border=\"1\" class=\"dataframe\">\n",
       "  <thead>\n",
       "    <tr style=\"text-align: right;\">\n",
       "      <th></th>\n",
       "      <th>title</th>\n",
       "      <th>id</th>\n",
       "      <th>genres</th>\n",
       "      <th>keywords</th>\n",
       "      <th>overview</th>\n",
       "      <th>production_companies</th>\n",
       "      <th>cast</th>\n",
       "      <th>crew</th>\n",
       "    </tr>\n",
       "  </thead>\n",
       "  <tbody>\n",
       "    <tr>\n",
       "      <th>0</th>\n",
       "      <td>Avatar</td>\n",
       "      <td>19995</td>\n",
       "      <td>[Action, Adventure, Fantasy, Science Fiction]</td>\n",
       "      <td>[culture clash, future, space war, space colon...</td>\n",
       "      <td>[In, the, 22nd, century,, a, paraplegic, Marin...</td>\n",
       "      <td>[Ingenious Film Partners, Twentieth Century Fo...</td>\n",
       "      <td>[Sam Worthington, Zoe Saldana, Sigourney Weave...</td>\n",
       "      <td>[James Cameron]</td>\n",
       "    </tr>\n",
       "    <tr>\n",
       "      <th>1</th>\n",
       "      <td>Pirates of the Caribbean: At World's End</td>\n",
       "      <td>285</td>\n",
       "      <td>[Adventure, Fantasy, Action]</td>\n",
       "      <td>[ocean, drug abuse, exotic island, east india ...</td>\n",
       "      <td>[Captain, Barbossa,, long, believed, to, be, d...</td>\n",
       "      <td>[Walt Disney Pictures, Jerry Bruckheimer Films...</td>\n",
       "      <td>[Johnny Depp, Orlando Bloom, Keira Knightley, ...</td>\n",
       "      <td>[Gore Verbinski]</td>\n",
       "    </tr>\n",
       "    <tr>\n",
       "      <th>2</th>\n",
       "      <td>Spectre</td>\n",
       "      <td>206647</td>\n",
       "      <td>[Action, Adventure, Crime]</td>\n",
       "      <td>[spy, based on novel, secret agent, sequel, mi...</td>\n",
       "      <td>[A, cryptic, message, from, Bond’s, past, send...</td>\n",
       "      <td>[Columbia Pictures, Danjaq, B24]</td>\n",
       "      <td>[Daniel Craig, Christoph Waltz, Léa Seydoux, R...</td>\n",
       "      <td>[Sam Mendes]</td>\n",
       "    </tr>\n",
       "    <tr>\n",
       "      <th>3</th>\n",
       "      <td>The Dark Knight Rises</td>\n",
       "      <td>49026</td>\n",
       "      <td>[Action, Crime, Drama, Thriller]</td>\n",
       "      <td>[dc comics, crime fighter, terrorist, secret i...</td>\n",
       "      <td>[Following, the, death, of, District, Attorney...</td>\n",
       "      <td>[Legendary Pictures, Warner Bros., DC Entertai...</td>\n",
       "      <td>[Christian Bale, Michael Caine, Gary Oldman, A...</td>\n",
       "      <td>[Christopher Nolan]</td>\n",
       "    </tr>\n",
       "    <tr>\n",
       "      <th>4</th>\n",
       "      <td>John Carter</td>\n",
       "      <td>49529</td>\n",
       "      <td>[Action, Adventure, Science Fiction]</td>\n",
       "      <td>[based on novel, mars, medallion, space travel...</td>\n",
       "      <td>[John, Carter, is, a, war-weary,, former, mili...</td>\n",
       "      <td>[Walt Disney Pictures]</td>\n",
       "      <td>[Taylor Kitsch, Lynn Collins, Samantha Morton,...</td>\n",
       "      <td>[Andrew Stanton]</td>\n",
       "    </tr>\n",
       "  </tbody>\n",
       "</table>\n",
       "</div>"
      ],
      "text/plain": [
       "                                      title      id  \\\n",
       "0                                    Avatar   19995   \n",
       "1  Pirates of the Caribbean: At World's End     285   \n",
       "2                                   Spectre  206647   \n",
       "3                     The Dark Knight Rises   49026   \n",
       "4                               John Carter   49529   \n",
       "\n",
       "                                          genres  \\\n",
       "0  [Action, Adventure, Fantasy, Science Fiction]   \n",
       "1                   [Adventure, Fantasy, Action]   \n",
       "2                     [Action, Adventure, Crime]   \n",
       "3               [Action, Crime, Drama, Thriller]   \n",
       "4           [Action, Adventure, Science Fiction]   \n",
       "\n",
       "                                            keywords  \\\n",
       "0  [culture clash, future, space war, space colon...   \n",
       "1  [ocean, drug abuse, exotic island, east india ...   \n",
       "2  [spy, based on novel, secret agent, sequel, mi...   \n",
       "3  [dc comics, crime fighter, terrorist, secret i...   \n",
       "4  [based on novel, mars, medallion, space travel...   \n",
       "\n",
       "                                            overview  \\\n",
       "0  [In, the, 22nd, century,, a, paraplegic, Marin...   \n",
       "1  [Captain, Barbossa,, long, believed, to, be, d...   \n",
       "2  [A, cryptic, message, from, Bond’s, past, send...   \n",
       "3  [Following, the, death, of, District, Attorney...   \n",
       "4  [John, Carter, is, a, war-weary,, former, mili...   \n",
       "\n",
       "                                production_companies  \\\n",
       "0  [Ingenious Film Partners, Twentieth Century Fo...   \n",
       "1  [Walt Disney Pictures, Jerry Bruckheimer Films...   \n",
       "2                   [Columbia Pictures, Danjaq, B24]   \n",
       "3  [Legendary Pictures, Warner Bros., DC Entertai...   \n",
       "4                             [Walt Disney Pictures]   \n",
       "\n",
       "                                                cast                 crew  \n",
       "0  [Sam Worthington, Zoe Saldana, Sigourney Weave...      [James Cameron]  \n",
       "1  [Johnny Depp, Orlando Bloom, Keira Knightley, ...     [Gore Verbinski]  \n",
       "2  [Daniel Craig, Christoph Waltz, Léa Seydoux, R...         [Sam Mendes]  \n",
       "3  [Christian Bale, Michael Caine, Gary Oldman, A...  [Christopher Nolan]  \n",
       "4  [Taylor Kitsch, Lynn Collins, Samantha Morton,...     [Andrew Stanton]  "
      ]
     },
     "execution_count": 23,
     "metadata": {},
     "output_type": "execute_result"
    }
   ],
   "source": [
    "mov.head()"
   ]
  },
  {
   "cell_type": "markdown",
   "id": "8e030c72-8f2c-470e-b3cd-33937604e980",
   "metadata": {},
   "source": [
    "### We remove all the spaces in names of people and other stuff so that we can work with the data"
   ]
  },
  {
   "cell_type": "code",
   "execution_count": 24,
   "id": "31145e72-a83e-4e24-b992-5db76026c2f7",
   "metadata": {},
   "outputs": [],
   "source": [
    "def rem_space(obj):\n",
    "    if obj is None or not isinstance(obj, list):\n",
    "        return obj\n",
    "    cleaned_data = []\n",
    "    for item in obj:\n",
    "        # Remove spaces from each string\n",
    "        cleaned_item = item.replace(\" \", \"\")\n",
    "        cleaned_data.append(cleaned_item)\n",
    "    return cleaned_data"
   ]
  },
  {
   "cell_type": "code",
   "execution_count": 25,
   "id": "27b8b8e6-b694-44c4-9fbf-a59ed193793d",
   "metadata": {},
   "outputs": [],
   "source": [
    "mov['genres']=mov['genres'].apply(rem_space)\n",
    "mov['keywords']=mov['keywords'].apply(rem_space)\n",
    "mov['overview']=mov['overview'].apply(rem_space)\n",
    "mov['production_companies']=mov['production_companies'].apply(rem_space)\n",
    "mov['cast']=mov['cast'].apply(rem_space)\n",
    "mov['crew']=mov['crew'].apply(rem_space)"
   ]
  },
  {
   "cell_type": "code",
   "execution_count": 106,
   "id": "60c5a16c-df22-49da-900b-fb913a5cfeb5",
   "metadata": {},
   "outputs": [
    {
     "data": {
      "text/html": [
       "<div>\n",
       "<style scoped>\n",
       "    .dataframe tbody tr th:only-of-type {\n",
       "        vertical-align: middle;\n",
       "    }\n",
       "\n",
       "    .dataframe tbody tr th {\n",
       "        vertical-align: top;\n",
       "    }\n",
       "\n",
       "    .dataframe thead th {\n",
       "        text-align: right;\n",
       "    }\n",
       "</style>\n",
       "<table border=\"1\" class=\"dataframe\">\n",
       "  <thead>\n",
       "    <tr style=\"text-align: right;\">\n",
       "      <th></th>\n",
       "      <th>title</th>\n",
       "      <th>id</th>\n",
       "      <th>genres</th>\n",
       "      <th>keywords</th>\n",
       "      <th>overview</th>\n",
       "      <th>production_companies</th>\n",
       "      <th>cast</th>\n",
       "      <th>crew</th>\n",
       "    </tr>\n",
       "  </thead>\n",
       "  <tbody>\n",
       "    <tr>\n",
       "      <th>0</th>\n",
       "      <td>Avatar</td>\n",
       "      <td>19995</td>\n",
       "      <td>[Action, Adventure, Fantasy, ScienceFiction]</td>\n",
       "      <td>[cultureclash, future, spacewar, spacecolony, ...</td>\n",
       "      <td>[In, the, 22nd, century,, a, paraplegic, Marin...</td>\n",
       "      <td>[IngeniousFilmPartners, TwentiethCenturyFoxFil...</td>\n",
       "      <td>[SamWorthington, ZoeSaldana, SigourneyWeaver, ...</td>\n",
       "      <td>[JamesCameron]</td>\n",
       "    </tr>\n",
       "  </tbody>\n",
       "</table>\n",
       "</div>"
      ],
      "text/plain": [
       "    title     id                                        genres  \\\n",
       "0  Avatar  19995  [Action, Adventure, Fantasy, ScienceFiction]   \n",
       "\n",
       "                                            keywords  \\\n",
       "0  [cultureclash, future, spacewar, spacecolony, ...   \n",
       "\n",
       "                                            overview  \\\n",
       "0  [In, the, 22nd, century,, a, paraplegic, Marin...   \n",
       "\n",
       "                                production_companies  \\\n",
       "0  [IngeniousFilmPartners, TwentiethCenturyFoxFil...   \n",
       "\n",
       "                                                cast            crew  \n",
       "0  [SamWorthington, ZoeSaldana, SigourneyWeaver, ...  [JamesCameron]  "
      ]
     },
     "execution_count": 106,
     "metadata": {},
     "output_type": "execute_result"
    }
   ],
   "source": [
    "mov.head(1)"
   ]
  },
  {
   "cell_type": "markdown",
   "id": "ec2d918a-79aa-48cb-9b4a-18b36272e968",
   "metadata": {},
   "source": [
    "## We combine the overview,keywords,genres,production_companies,cast and crew fields into a single field called tags and then create the final data frame on which we will be working on"
   ]
  },
  {
   "cell_type": "code",
   "execution_count": 26,
   "id": "773e3273-bb97-41fd-ba12-4552efeaadd5",
   "metadata": {},
   "outputs": [],
   "source": [
    "mov['tags']=mov['overview'] + mov['keywords'] + mov['genres'] + mov['production_companies'] + mov['cast'] +  mov['crew'] "
   ]
  },
  {
   "cell_type": "code",
   "execution_count": 27,
   "id": "cffc4b76-384d-4f52-9f60-f6dc6ce8abb6",
   "metadata": {},
   "outputs": [],
   "source": [
    "\n",
    "df = mov[['id','title','tags']].copy()\n"
   ]
  },
  {
   "cell_type": "code",
   "execution_count": 29,
   "id": "d92d4633-3c9d-43c2-bfa0-97de123816bf",
   "metadata": {},
   "outputs": [],
   "source": [
    "#df.iloc[100]['tags']"
   ]
  },
  {
   "cell_type": "markdown",
   "id": "2e3c82ca-c141-4275-8fcd-da38a8e9a9b1",
   "metadata": {},
   "source": [
    "## Converting the list into a string: It converts lists like ['action', 'adventure', 'sci-fi'] into a single string: 'action adventure sci-fi'\n",
    "## Then changing all the text in tags to lowercase and filling all the None values with nothing"
   ]
  },
  {
   "cell_type": "code",
   "execution_count": 30,
   "id": "ca10b5a0-b480-4546-9648-67dd3353d0a1",
   "metadata": {},
   "outputs": [],
   "source": [
    "df['tags'] = df['tags'].apply(lambda x: \" \".join(x) if isinstance(x, list) else x)\n"
   ]
  },
  {
   "cell_type": "code",
   "execution_count": 31,
   "id": "e9181e2f-5216-4df6-ad71-504b22f40eef",
   "metadata": {},
   "outputs": [],
   "source": [
    "df['tags'] = df['tags'].apply(lambda x: x.lower() if isinstance(x, str) else x)\n"
   ]
  },
  {
   "cell_type": "code",
   "execution_count": 32,
   "id": "5b9e61d4-bb44-4a02-b799-858cb893531a",
   "metadata": {},
   "outputs": [],
   "source": [
    "df['tags'] = df['tags'].fillna(\"\")\n"
   ]
  },
  {
   "cell_type": "markdown",
   "id": "84ff8c5a-5daf-4e74-834d-d5b581999e2a",
   "metadata": {},
   "source": [
    "## Now we make a 5000 dimension vector and the vector contains the count of 5000 most commonly used words from all the 'tags' field combined and stop words are also removed. We use the scikit-learn CountVectorizer for this and fit ths tags column. \n",
    "# We will use Bag of Words"
   ]
  },
  {
   "cell_type": "code",
   "execution_count": 33,
   "id": "c70901d3-843b-4442-b063-aa3ee6b342b2",
   "metadata": {},
   "outputs": [],
   "source": [
    "from sklearn.feature_extraction.text import CountVectorizer\n",
    "\n",
    "cv = CountVectorizer(max_features=5000, stop_words='english')\n",
    "vectors = cv.fit_transform(df['tags']).toarray()\n"
   ]
  },
  {
   "cell_type": "code",
   "execution_count": 34,
   "id": "1a7e690e-4e95-4acd-a631-c33959894ac9",
   "metadata": {},
   "outputs": [
    {
     "data": {
      "text/plain": [
       "array(['000', '007', '10', ..., 'zone', 'zoo', 'zooeydeschanel'],\n",
       "      dtype=object)"
      ]
     },
     "execution_count": 34,
     "metadata": {},
     "output_type": "execute_result"
    }
   ],
   "source": [
    "cv.get_feature_names_out()\n"
   ]
  },
  {
   "cell_type": "code",
   "execution_count": 35,
   "id": "53d414e8-96dc-4a6c-a2b8-9512214dd9ce",
   "metadata": {},
   "outputs": [
    {
     "data": {
      "text/plain": [
       "array([0, 0, 0, ..., 0, 0, 0], dtype=int64)"
      ]
     },
     "execution_count": 35,
     "metadata": {},
     "output_type": "execute_result"
    }
   ],
   "source": [
    "#!pip install nltk\n",
    "vectors[505]\n"
   ]
  },
  {
   "cell_type": "markdown",
   "id": "d793ce47-238b-411a-bd5a-f6c79f3eaf0a",
   "metadata": {},
   "source": [
    "### Here we clean the data using PorterStemmer. Words such as loved,loving,love are all converted into their root word which in this case is loved. Then we convert it back to a string. This step should be dobe before the vectorization."
   ]
  },
  {
   "cell_type": "code",
   "execution_count": 35,
   "id": "270b50cd-1451-4802-9dda-e2166f2d38ea",
   "metadata": {},
   "outputs": [],
   "source": [
    "from nltk.stem.porter import PorterStemmer"
   ]
  },
  {
   "cell_type": "code",
   "execution_count": 36,
   "id": "562153fa-2e97-43bd-ac0b-17a15bc0b5b8",
   "metadata": {},
   "outputs": [],
   "source": [
    "ps=PorterStemmer()"
   ]
  },
  {
   "cell_type": "code",
   "execution_count": 37,
   "id": "c67d7046-38c9-48ab-bf39-2be9a524812b",
   "metadata": {},
   "outputs": [],
   "source": [
    "def stem(text):\n",
    "    L=[]\n",
    "    for word in text.split():\n",
    "        L.append(ps.stem(word))\n",
    "\n",
    "    return \" \".join(L)"
   ]
  },
  {
   "cell_type": "code",
   "execution_count": 38,
   "id": "a27443b2-75bb-4e3d-b3db-aa02beeaf060",
   "metadata": {},
   "outputs": [],
   "source": [
    "df['tags']=df['tags'].apply(stem)"
   ]
  },
  {
   "cell_type": "code",
   "execution_count": 39,
   "id": "34df01a1-cbb8-42ed-98ec-9a362faa03dc",
   "metadata": {},
   "outputs": [
    {
     "data": {
      "text/plain": [
       "0       in the 22nd century, a parapleg marin is dispa...\n",
       "1       captain barbossa, long believ to be dead, ha c...\n",
       "2       a cryptic messag from bond’ past send him on a...\n",
       "3       follow the death of district attorney harvey d...\n",
       "4       john carter is a war-weary, former militari ca...\n",
       "                              ...                        \n",
       "4804    el mariachi just want to play hi guitar and ca...\n",
       "4805    a newlyw couple' honeymoon is upend by the arr...\n",
       "4806    \"signed, sealed, delivered\" introduc a dedic q...\n",
       "4807    when ambiti new york attorney sam is sent to s...\n",
       "4808    ever sinc the second grade when he first saw h...\n",
       "Name: tags, Length: 4806, dtype: object"
      ]
     },
     "execution_count": 39,
     "metadata": {},
     "output_type": "execute_result"
    }
   ],
   "source": [
    "df['tags']"
   ]
  },
  {
   "cell_type": "markdown",
   "id": "9b45e367-88c4-49d7-93fc-d9265de84e85",
   "metadata": {},
   "source": [
    "## Now we find the cosine distance between the vectors and suggest the 5 movies whose cosine distance is the closest to the movie "
   ]
  },
  {
   "cell_type": "code",
   "execution_count": 40,
   "id": "d1f9a15b-d40b-4a35-8012-6ca6af99b688",
   "metadata": {},
   "outputs": [],
   "source": [
    "from sklearn.metrics.pairwise import cosine_similarity\n"
   ]
  },
  {
   "cell_type": "code",
   "execution_count": 51,
   "id": "0ea4fa77-419b-42be-a09d-4c1dc9b5b6a1",
   "metadata": {},
   "outputs": [],
   "source": [
    "similarity = cosine_similarity(vectors)"
   ]
  },
  {
   "cell_type": "code",
   "execution_count": 42,
   "id": "03c75c81-ce44-45ee-96ba-c69f79497386",
   "metadata": {},
   "outputs": [],
   "source": [
    "def suggest(movie):\n",
    "    index=find_index(movie)\n",
    "    dist=list(enumerate(similarity[index]))\n",
    "    suggested_movies = sorted(dist,reverse=True,key=lambda x:x[1])[1:6]\n",
    "    for m in suggested_movies:\n",
    "        print(df.iloc[m[0]].title)"
   ]
  },
  {
   "cell_type": "code",
   "execution_count": 43,
   "id": "c638372e-4d07-4952-a94f-155a3e3aed57",
   "metadata": {},
   "outputs": [],
   "source": [
    "def find_index(movie):\n",
    "    \n",
    "    for index,m in df.iterrows():\n",
    "        if m['title'] == movie:\n",
    "            return index\n",
    "    return -1"
   ]
  },
  {
   "cell_type": "code",
   "execution_count": 240,
   "id": "35671083-2b74-4362-8506-2e59161873f6",
   "metadata": {},
   "outputs": [],
   "source": [
    "#find_index(\"The Dark Knight Rises\")\n",
    "#dist=list(enumerate(similarity[0]))\n",
    "#sorted(dist,reverse=True,key=lambda x:x[1])[1:6]\n",
    "#df.iloc[0].title"
   ]
  },
  {
   "cell_type": "markdown",
   "id": "f186eb9e-f6dd-4886-9a18-9e85de630c5f",
   "metadata": {},
   "source": [
    "## Put the name of any movie present in the database and it will recommend 5 movies which are similar to it"
   ]
  },
  {
   "cell_type": "code",
   "execution_count": 44,
   "id": "ecd84aa9-7bec-4b42-9ddd-5220902d3a9e",
   "metadata": {},
   "outputs": [
    {
     "name": "stdout",
     "output_type": "stream",
     "text": [
      "Silent Running\n",
      "Gravity\n",
      "Space Pirate Captain Harlock\n",
      "Space Cowboys\n",
      "The Martian\n"
     ]
    }
   ],
   "source": [
    "suggest(\"Interstellar\")"
   ]
  },
  {
   "cell_type": "code",
   "execution_count": 1,
   "id": "9e4d4d92-233f-4759-963a-3eedf498b1b4",
   "metadata": {},
   "outputs": [],
   "source": [
    "import pickle\n"
   ]
  },
  {
   "cell_type": "code",
   "execution_count": 48,
   "id": "36fd2f93-8cb2-440f-9e85-44e2869dd1b7",
   "metadata": {},
   "outputs": [],
   "source": [
    "pickle.dump(df,open('movies.pkl','wb'))"
   ]
  },
  {
   "cell_type": "code",
   "execution_count": 49,
   "id": "df45759f-3454-48da-8a91-15411a50bd8f",
   "metadata": {},
   "outputs": [],
   "source": [
    "pickle.dump(df.to_dict(),open('movies_dict.pkl','wb'))"
   ]
  },
  {
   "cell_type": "code",
   "execution_count": 52,
   "id": "2a5fe722-22ae-465d-81b0-2309d0667983",
   "metadata": {},
   "outputs": [],
   "source": [
    "pickle.dump(similarity,open('similarity.pkl','wb'))"
   ]
  },
  {
   "cell_type": "code",
   "execution_count": null,
   "id": "d3c153f9-728e-492f-8c4e-139b064dff50",
   "metadata": {},
   "outputs": [],
   "source": []
  }
 ],
 "metadata": {
  "kernelspec": {
   "display_name": "Python 3 (ipykernel)",
   "language": "python",
   "name": "python3"
  },
  "language_info": {
   "codemirror_mode": {
    "name": "ipython",
    "version": 3
   },
   "file_extension": ".py",
   "mimetype": "text/x-python",
   "name": "python",
   "nbconvert_exporter": "python",
   "pygments_lexer": "ipython3",
   "version": "3.11.4"
  }
 },
 "nbformat": 4,
 "nbformat_minor": 5
}
